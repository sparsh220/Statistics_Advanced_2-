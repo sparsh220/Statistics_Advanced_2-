{
  "nbformat": 4,
  "nbformat_minor": 0,
  "metadata": {
    "colab": {
      "provenance": []
    },
    "kernelspec": {
      "name": "python3",
      "display_name": "Python 3"
    },
    "language_info": {
      "name": "python"
    }
  },
  "cells": [
    {
      "cell_type": "markdown",
      "source": [
        "# Statistics Advanced - 2"
      ],
      "metadata": {
        "id": "W0AlwMXrmMeU"
      }
    },
    {
      "cell_type": "markdown",
      "source": [
        "## Question 1: What is hypothesis testing in statistics?\n",
        "Answer:  you made a claim about the population (say average age is 45 years).\n",
        "\n",
        "due to time and resources constraints you can't go to each person of population to record age.\n",
        "\n",
        "take sample and calculate average age of sample then check if sample average age is close to the claim that you have made about population.\n",
        "\n",
        "trying to verify the hypothesis this is called hypothesis testing."
      ],
      "metadata": {
        "id": "gYeoYNpgmMmp"
      }
    },
    {
      "cell_type": "markdown",
      "source": [
        "## Question 2: What is the null hypothesis, and how does it differ from the alternative hypothesis?\n",
        "Answer:\n",
        "\n",
        "Null hypotheis : the initial or default assumption that there is no effect or no difference between groups or treatments.\n",
        "\n",
        "example : person is not guilty even if he did any crime till court didnt give judgement.\n",
        "\n",
        "Alternative hypothesis : opposite of null hypothesis.It says there is a real effect or difference between groups or treatments.\n",
        "\n",
        "example : person is guilty.\n",
        "\n",
        "null hypothesis is differ from alternative hypothesis are\n",
        "* null hypothesis says there is no difference or effect where\n",
        "alternative hypothesis says there is a difference or effect.\n",
        "\n",
        "* We try to disprove the null hypothesis using data.\n",
        "If the null is wrong, we accept the alternative hypothesis\n"
      ],
      "metadata": {
        "id": "9FhjtkbEmMuh"
      }
    },
    {
      "cell_type": "markdown",
      "source": [
        "##Question 3: Explain the significance level in hypothesis testing and its role in deciding the outcome of a test.\n",
        "Answer: Significance level (alpha): suppose in a clinical trial of a medicine there are 950 people out of 1000 get cure with this medicine. so, we can say that medicine is working 95%.\n",
        "out of 100 times , 95% will work (95% CONFIDENCE) and 5% of the time medicine does not work and this 5% will called level of significance (alpha).\n",
        "its role in deciding the outcome of a test :\n",
        "Usually, we use  alpha = 0.05 (5%)\n",
        "\n",
        "It means that if the result is more than 5% then, we do not reject the null hypothesis.\n",
        "\n",
        "If it happens less than 5% then, we reject the null hypothesis and support the alternative.\n",
        "\n"
      ],
      "metadata": {
        "id": "aXuYlatVml0s"
      }
    },
    {
      "cell_type": "markdown",
      "source": [
        "## Question 4: What are Type I and Type II errors? Give examples of each.\n",
        "Answer:\n",
        "\n",
        "Type I error : rejection of null hypothesis when it is actually true.\n",
        "\n",
        "example : an innocent person is convicted.\n",
        "\n",
        "Type II error : it is fail to reject the null hypothesis that is actually false.\n",
        "\n",
        "example : a guilty person may not be convicted."
      ],
      "metadata": {
        "id": "QQa4kMwUml9O"
      }
    },
    {
      "cell_type": "markdown",
      "source": [
        "## Question 5: What is the difference between a Z-test and a T-test? Explain when to use each.\n",
        "Answer:\n",
        "\n",
        "Z-test:\n",
        "\n",
        "* when the sample size is large (usually more than 30).\n",
        "\n",
        "* The population standard deviation is known.\n",
        "\n",
        "It follows the normal distribution (bell curve).\n",
        "\n",
        " T-test:\n",
        "\n",
        "*  when the sample size is small (less than 30) or when the population standard deviation is unknown.\n",
        "\n",
        "It follows the t-distribution.\n",
        "\n",
        "\n",
        "We use a Z-test when we have a large sample size (usually 30 or more) and know the population’s standard deviation. For example, if a company collects data from thousands of customers and knows how much their satisfaction scores usually vary, they can use a Z-test to check if a new policy has changed the average score.\n",
        "\n",
        "We use a T-test when we have a small sample size (usually less than 30) or don’t know the population’s standard deviation. For example, if a teacher tests a new study method with only 15 students and doesn’t know how much scores usually vary, the T-test helps check if the method really made a difference."
      ],
      "metadata": {
        "id": "6U8-sCjVmmEP"
      }
    },
    {
      "cell_type": "code",
      "source": [
        "# Question 6: Write a Python program to generate a binomial distribution with n=10 and\n",
        "# p=0.5, then plot its histogram.(Include your Python code and output in the code box below.)\n",
        "# Hint: Generate random number using random function\n",
        "\n",
        "import numpy as np\n",
        "import matplotlib.pyplot as plt\n",
        "\n",
        "# given\n",
        "n = 10\n",
        "p = 0.5\n",
        "size = 1000\n",
        "\n",
        "# Generate binomial distribution\n",
        "data = np.random.binomial(n, p, size)\n",
        "\n",
        "# Plot histogram\n",
        "plt.hist(data, bins=range(n+2), edgecolor='black', align='left')\n",
        "plt.title(\"Binomial Distribution (n=10, p=0.5)\")\n",
        "plt.xlabel(\"Number of Successes\")\n",
        "plt.ylabel(\"Frequency\")\n",
        "plt.show()\n",
        "\n",
        "\n"
      ],
      "metadata": {
        "id": "lC4QTw-ZnGZO",
        "colab": {
          "base_uri": "https://localhost:8080/",
          "height": 472
        },
        "outputId": "7264f42b-1d5b-447b-90ae-06afedb65a15"
      },
      "execution_count": null,
      "outputs": [
        {
          "output_type": "display_data",
          "data": {
            "text/plain": [
              "<Figure size 640x480 with 1 Axes>"
            ],
            "image/png": "[encoded data removed]"
          },
          "metadata": {}
        }
      ]
    },
    {
      "cell_type": "code",
      "source": [
        "# Question 7: Implement hypothesis testing using Z-statistics for a sample dataset inPython. Show the Python code and interpret the results.\n",
        "# sample_data = [49.1, 50.2, 51.0, 48.7, 50.5, 49.8, 50.3, 50.7, 50.2, 49.6,50.1, 49.9, 50.8, 50.4, 48.9, 50.6, 50.0, 49.7, 50.2, 49.5,\n",
        "# 50.1, 50.3, 50.4, 50.5, 50.0, 50.7, 49.3, 49.8, 50.2, 50.9,50.3, 50.4, 50.0, 49.7, 50.5, 49.9]\n",
        "# (Include your Python code and output in the code box below.)\n",
        "\n",
        "import numpy as np\n",
        "from scipy.stats import norm\n",
        "\n",
        "sample_data = [49.1, 50.2, 51.0, 48.7, 50.5, 49.8, 50.3, 50.7, 50.2, 49.6,50.1, 49.9, 50.8, 50.4, 48.9, 50.6, 50.0, 49.7, 50.2, 49.5,\n",
        "50.1, 50.3, 50.4, 50.5, 50.0, 50.7, 49.3, 49.8, 50.2, 50.9,50.3, 50.4, 50.0, 49.7, 50.5, 49.9]\n",
        "\n",
        "# Population parameters\n",
        "population_mean = 50\n",
        "population_std = 1\n",
        "\n",
        "# Sample statistics\n",
        "sample_mean = np.mean(sample_data)\n",
        "sample_size = len(sample_data)\n",
        "\n",
        "# Calculate Z-statistic\n",
        "z_score = (sample_mean - population_mean) / (population_std / np.sqrt(sample_size))\n",
        "\n",
        "# Calculate p-value (two-tailed test)\n",
        "p_value = 2 * (1 - norm.cdf(abs(z_score)))\n",
        "\n",
        "# Output results\n",
        "print(f\"Sample Mean: {sample_mean:.2f}\")\n",
        "print(f\"Z-Score: {z_score:.2f}\")\n",
        "print(f\"P-Value: {p_value:.4f}\")\n",
        "\n",
        "if p_value < 0.05:\n",
        "    print(\"Reject the null hypothesis: The sample mean is significantly different from the population mean.\")\n",
        "else:\n",
        "    print(\"Fail to reject the null hypothesis: No significant difference between the sample mean and the population mean.\")\n",
        "\n",
        "\n"
      ],
      "metadata": {
        "id": "_LgyX0O7nWZI",
        "colab": {
          "base_uri": "https://localhost:8080/"
        },
        "outputId": "50822969-63dd-48c8-f924-eacca6222879"
      },
      "execution_count": null,
      "outputs": [
        {
          "output_type": "stream",
          "name": "stdout",
          "text": [
            "Sample Mean: 50.09\n",
            "Z-Score: 0.53\n",
            "P-Value: 0.5938\n",
            "Fail to reject the null hypothesis: No significant difference between the sample mean and the population mean.\n"
          ]
        }
      ]
    },
    {
      "cell_type": "code",
      "source": [
        "# Question 8: Write a Python script to simulate data from a normal distribution and calculate the 95% confidence interval for its mean.\n",
        "# Plot the data using Matplotlib.(Include your Python code and output in the code box below.)\n",
        "\n",
        "import numpy as np\n",
        "import matplotlib.pyplot as plt\n",
        "from scipy import stats\n",
        "\n",
        "# Simulate data\n",
        "data = np.random.normal(loc=50, scale=10, size=100)  # mean=50, sd=10, n=100\n",
        "\n",
        "# Calculate mean and 95% CI\n",
        "mean = np.mean(data)\n",
        "ci = stats.norm.interval(0.95, loc=mean, scale=stats.sem(data))\n",
        "\n",
        "print(\"Mean:\", mean)\n",
        "print(\"95% Confidence Interval:\", ci)\n",
        "\n",
        "# Plot\n",
        "plt.hist(data, bins=15, color='skyblue', edgecolor='black')\n",
        "plt.axvline(mean, color='black', linestyle='dashed', linewidth=2, label='Mean')\n",
        "plt.title('Histogram of Simulated Data')\n",
        "plt.legend()\n",
        "plt.show()\n",
        "\n",
        "\n"
      ],
      "metadata": {
        "id": "YZTJPEf4nrG1",
        "colab": {
          "base_uri": "https://localhost:8080/",
          "height": 487
        },
        "outputId": "77619703-b5aa-4e18-e0c2-318ad1c0a3f7"
      },
      "execution_count": 15,
      "outputs": [
        {
          "output_type": "stream",
          "name": "stdout",
          "text": [
            "Mean: 49.874357841610816\n",
            "95% Confidence Interval: (np.float64(47.83129471931736), np.float64(51.91742096390427))\n"
          ]
        },
        {
          "output_type": "display_data",
          "data": {
            "text/plain": [
              "<Figure size 640x480 with 1 Axes>"
            ],
            "image/png": "[encoded data removed]"
          },
          "metadata": {}
        }
      ]
    },
    {
      "cell_type": "code",
      "source": [
        "# Question 9: Write a Python function to calculate the Z-scores from a dataset and visualize the standardized data using a histogram.\n",
        "# Explain what the Z-scores represent in terms of standard deviations from the mean.\n",
        "# (Include your Python code and output in the code box below.)\n",
        "\n",
        "\n",
        "import numpy as np\n",
        "import matplotlib.pyplot as plt\n",
        "\n",
        "def plot_z_scores(data):\n",
        "    # Calculate mean and standard deviation\n",
        "    mean = np.mean(data)\n",
        "    std = np.std(data, ddof=1)\n",
        "\n",
        "    # Calculate Z-scores\n",
        "    z_scores = (data - mean) / std\n",
        "\n",
        "    # Plot histogram\n",
        "    plt.hist(z_scores, bins=15, edgecolor= 'black')\n",
        "    plt.show()\n",
        "    return z_scores\n",
        "\n",
        "np.random.seed(0)\n",
        "data = np.random.normal(50, 5, 100)\n",
        "z_scores = plot_z_scores(data)\n",
        "\n",
        "\n"
      ],
      "metadata": {
        "id": "RF7jwHG-n1le",
        "colab": {
          "base_uri": "https://localhost:8080/",
          "height": 430
        },
        "outputId": "3d3dd061-0436-456e-b9f1-654f2b9c0f8f"
      },
      "execution_count": null,
      "outputs": [
        {
          "output_type": "display_data",
          "data": {
            "text/plain": [
              "<Figure size 640x480 with 1 Axes>"
            ],
            "image/png": "[encoded data removed]"
          },
          "metadata": {}
        }
      ]
    }
  ]
}